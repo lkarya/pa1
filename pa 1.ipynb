{
 "cells": [
  {
   "cell_type": "code",
   "execution_count": 2,
   "id": "00983820",
   "metadata": {},
   "outputs": [
    {
     "name": "stdout",
     "output_type": "stream",
     "text": [
      "Hello Python\n"
     ]
    }
   ],
   "source": [
    "# Write a Python program to print \"Hello Python\"?\n",
    "\n",
    "print('Hello Python')"
   ]
  },
  {
   "cell_type": "code",
   "execution_count": 10,
   "id": "7fb5f0bf",
   "metadata": {},
   "outputs": [
    {
     "data": {
      "text/plain": [
       "30"
      ]
     },
     "execution_count": 10,
     "metadata": {},
     "output_type": "execute_result"
    }
   ],
   "source": [
    "# Write a Python program to do arithmetical operations addition and division.?\n",
    "\n",
    "val1 = 10\n",
    "val2 = 20\n",
    "\n",
    "Add = (val1+val2)\n",
    "(Add)"
   ]
  },
  {
   "cell_type": "code",
   "execution_count": 11,
   "id": "1fcd2f7c",
   "metadata": {},
   "outputs": [
    {
     "data": {
      "text/plain": [
       "0.5"
      ]
     },
     "execution_count": 11,
     "metadata": {},
     "output_type": "execute_result"
    }
   ],
   "source": [
    "Div = (val1/val2)\n",
    "(Div)"
   ]
  },
  {
   "cell_type": "code",
   "execution_count": null,
   "id": "af2d5c6a",
   "metadata": {},
   "outputs": [],
   "source": [
    "# Write a Python program to find the area of a triangle?\n",
    "\n",
    "Input: shape name = \"Rectangle\"\n",
    "       length = 10\n",
    "       breadth = 15\n",
    "Output: Area: 150"
   ]
  },
  {
   "cell_type": "code",
   "execution_count": 12,
   "id": "0ea65697",
   "metadata": {},
   "outputs": [
    {
     "name": "stdout",
     "output_type": "stream",
     "text": [
      "Value of x: 50\n",
      "Value of y: 10\n"
     ]
    }
   ],
   "source": [
    "# Write a Python program to swap two variables?\n",
    "\n",
    "# Python program to demonstrate\n",
    "# swapping of two variables\n",
    " \n",
    "x = 10\n",
    "y = 50\n",
    " \n",
    "# Swapping of two variables\n",
    "# Using third variable\n",
    "temp = x\n",
    "x = y\n",
    "y = temp\n",
    " \n",
    "print(\"Value of x:\", x)\n",
    "print(\"Value of y:\", y)"
   ]
  },
  {
   "cell_type": "code",
   "execution_count": 13,
   "id": "263b4fc3",
   "metadata": {},
   "outputs": [
    {
     "name": "stdout",
     "output_type": "stream",
     "text": [
      "1\n",
      "e\n"
     ]
    }
   ],
   "source": [
    "# Write a Python program to generate a random number?\n",
    "\n",
    "# Python3 program to demonstrate the use of\n",
    "# choice() method\n",
    " \n",
    "# import random\n",
    "import random\n",
    " \n",
    "# prints a random value from the list\n",
    "list1 = [1, 2, 3, 4, 5, 6]\n",
    "print(random.choice(list1))\n",
    " \n",
    "# prints a random item from the string\n",
    "string = \"striver\"\n",
    "print(random.choice(string))"
   ]
  },
  {
   "cell_type": "code",
   "execution_count": null,
   "id": "bd1ec63b",
   "metadata": {},
   "outputs": [],
   "source": []
  }
 ],
 "metadata": {
  "kernelspec": {
   "display_name": "Python 3 (ipykernel)",
   "language": "python",
   "name": "python3"
  },
  "language_info": {
   "codemirror_mode": {
    "name": "ipython",
    "version": 3
   },
   "file_extension": ".py",
   "mimetype": "text/x-python",
   "name": "python",
   "nbconvert_exporter": "python",
   "pygments_lexer": "ipython3",
   "version": "3.9.7"
  }
 },
 "nbformat": 4,
 "nbformat_minor": 5
}
